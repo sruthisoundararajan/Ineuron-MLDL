{
 "cells": [
  {
   "cell_type": "markdown",
   "id": "1ab4780d",
   "metadata": {},
   "source": [
    "Write a function so that the columns of the output matrix are powers of the input\n",
    "vector.\n",
    "The order of the powers is determined by the increasing boolean argument. Specifically, when\n",
    "increasing is False, the i-th output column is the input vector raised element-wise to the power\n",
    "of N - i - 1.\n",
    "\n",
    "HINT: Such a matrix with a geometric progression in each row is named for Alexandre-\n",
    "Theophile Vandermonde."
   ]
  },
  {
   "cell_type": "code",
   "execution_count": 1,
   "id": "24c10c77",
   "metadata": {},
   "outputs": [],
   "source": [
    "import numpy as np\n",
    "def func():\n",
    "    a=[] \n",
    "    e=[]\n",
    "    a=int(input(\"enter the number:\"))\n",
    "    for i in range(a):\n",
    "        for j in range(a):\n",
    "            \n",
    "            d=np.array(j)**i\n",
    "            e.append(d)\n",
    "    print(\"e=\",e)\n",
    "    arr_2d = np.reshape(e, (a,a),order='F')\n",
    "    print(\"matrix:\\n\",arr_2d)"
   ]
  },
  {
   "cell_type": "code",
   "execution_count": 2,
   "id": "e2e821ae",
   "metadata": {},
   "outputs": [
    {
     "name": "stdout",
     "output_type": "stream",
     "text": [
      "enter the number:7\n",
      "e= [1, 1, 1, 1, 1, 1, 1, 0, 1, 2, 3, 4, 5, 6, 0, 1, 4, 9, 16, 25, 36, 0, 1, 8, 27, 64, 125, 216, 0, 1, 16, 81, 256, 625, 1296, 0, 1, 32, 243, 1024, 3125, 7776, 0, 1, 64, 729, 4096, 15625, 46656]\n",
      "matrix:\n",
      " [[    1     0     0     0     0     0     0]\n",
      " [    1     1     1     1     1     1     1]\n",
      " [    1     2     4     8    16    32    64]\n",
      " [    1     3     9    27    81   243   729]\n",
      " [    1     4    16    64   256  1024  4096]\n",
      " [    1     5    25   125   625  3125 15625]\n",
      " [    1     6    36   216  1296  7776 46656]]\n"
     ]
    }
   ],
   "source": [
    "func()"
   ]
  },
  {
   "cell_type": "markdown",
   "id": "1fb7d125",
   "metadata": {},
   "source": [
    "Problem Statement 2:\n",
    "Given a sequence of n values x1, x2, ..., xn and a window size k>0, the k-th moving average of\n",
    "the given sequence is defined as follows:\n",
    "The moving average sequence has n-k+1 elements as shown below.\n",
    "The moving averages with k=4 of a ten-value sequence (n=10) is shown below\n",
    "i 1 2 3 4 5 6 7 8 9 10\n",
    "===== == == == == == == == == == ==\n",
    "Input 10 20 30 40 50 60 70 80 90 100\n",
    "y1 25 = (10+20+30+40)/4\n",
    "y2 35 = (20+30+40+50)/4\n",
    "y3 45 = (30+40+50+60)/4\n",
    "y4 55 = (40+50+60+70)/4\n",
    "y5 65 = (50+60+70+80)/4\n",
    "y6 75 = (60+70+80+90)/4\n",
    "y7 85 = (70+80+90+100)/4\n",
    "Thus, the moving average sequence has n-k+1=10-4+1=7 values."
   ]
  },
  {
   "cell_type": "markdown",
   "id": "4641a50f",
   "metadata": {},
   "source": [
    " Question: Write a function to find moving average in an array over a window:\n",
    "Test it over [3, 5, 7, 2, 8, 10, 11, 65, 72, 81, 99, 100, 150] and window of 3."
   ]
  },
  {
   "cell_type": "code",
   "execution_count": 3,
   "id": "586301d7",
   "metadata": {},
   "outputs": [],
   "source": [
    "import numpy as np\n",
    "a=np.array([3, 5, 7, 2, 8, 10, 11, 65, 72, 81, 99, 100, 150])"
   ]
  },
  {
   "cell_type": "code",
   "execution_count": 4,
   "id": "bdec2403",
   "metadata": {},
   "outputs": [],
   "source": [
    "def func2():\n",
    "    a=np.array([3, 5, 7, 2, 8, 10, 11, 65, 72, 81, 99, 100, 150])\n",
    "    n=np.count_nonzero(a)\n",
    "    y=[]\n",
    "    print(\"n:\",n)\n",
    "    k=int(input(\"enter k:\"))\n",
    "    movavg=n-k+1\n",
    "    print(\"mov_avg=\",movavg)\n",
    "    for j in range(movavg):\n",
    "        y.append(j)\n",
    "    for i in range(movavg):\n",
    "            b=(a[i]+a[i+1]+a[i+2])/k\n",
    "            print(y[i],\"=(\",a[i],\"+\",a[i+1],\"+\",a[i+2],\")/3\",\"=\",b)"
   ]
  },
  {
   "cell_type": "code",
   "execution_count": 5,
   "id": "3bf202d9",
   "metadata": {},
   "outputs": [
    {
     "name": "stdout",
     "output_type": "stream",
     "text": [
      "n: 13\n",
      "enter k:3\n",
      "mov_avg= 11\n",
      "0 =( 3 + 5 + 7 )/3 = 5.0\n",
      "1 =( 5 + 7 + 2 )/3 = 4.666666666666667\n",
      "2 =( 7 + 2 + 8 )/3 = 5.666666666666667\n",
      "3 =( 2 + 8 + 10 )/3 = 6.666666666666667\n",
      "4 =( 8 + 10 + 11 )/3 = 9.666666666666666\n",
      "5 =( 10 + 11 + 65 )/3 = 28.666666666666668\n",
      "6 =( 11 + 65 + 72 )/3 = 49.333333333333336\n",
      "7 =( 65 + 72 + 81 )/3 = 72.66666666666667\n",
      "8 =( 72 + 81 + 99 )/3 = 84.0\n",
      "9 =( 81 + 99 + 100 )/3 = 93.33333333333333\n",
      "10 =( 99 + 100 + 150 )/3 = 116.33333333333333\n"
     ]
    }
   ],
   "source": [
    "func2()"
   ]
  }
 ],
 "metadata": {
  "kernelspec": {
   "display_name": "Python 3",
   "language": "python",
   "name": "python3"
  },
  "language_info": {
   "codemirror_mode": {
    "name": "ipython",
    "version": 3
   },
   "file_extension": ".py",
   "mimetype": "text/x-python",
   "name": "python",
   "nbconvert_exporter": "python",
   "pygments_lexer": "ipython3",
   "version": "3.8.8"
  }
 },
 "nbformat": 4,
 "nbformat_minor": 5
}
