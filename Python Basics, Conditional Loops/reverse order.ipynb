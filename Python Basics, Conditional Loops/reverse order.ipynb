{
 "cells": [
  {
   "cell_type": "markdown",
   "id": "92769592",
   "metadata": {},
   "source": [
    "2.) Write a Python program to accept the user's first and last name and then getting them printed in the the reverse order with a space between first name and last name."
   ]
  },
  {
   "cell_type": "code",
   "execution_count": 1,
   "id": "78556a55",
   "metadata": {},
   "outputs": [
    {
     "name": "stdout",
     "output_type": "stream",
     "text": [
      "enter first name:sruthi\n",
      "enter last name:rajan\n",
      "ihturs najar\n"
     ]
    }
   ],
   "source": [
    "first_name=[]\n",
    "last_name=[]\n",
    "first_name=input(\"enter first name:\")\n",
    "last_name=input(\"enter last name:\")\n",
    "print(first_name[::-1] + \" \"  + last_name[::-1])"
   ]
  }
 ],
 "metadata": {
  "kernelspec": {
   "display_name": "Python 3",
   "language": "python",
   "name": "python3"
  },
  "language_info": {
   "codemirror_mode": {
    "name": "ipython",
    "version": 3
   },
   "file_extension": ".py",
   "mimetype": "text/x-python",
   "name": "python",
   "nbconvert_exporter": "python",
   "pygments_lexer": "ipython3",
   "version": "3.8.8"
  }
 },
 "nbformat": 4,
 "nbformat_minor": 5
}
