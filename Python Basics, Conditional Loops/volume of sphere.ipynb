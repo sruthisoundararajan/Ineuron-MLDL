{
 "cells": [
  {
   "cell_type": "markdown",
   "id": "1f963e2e",
   "metadata": {},
   "source": [
    "3.) Write a Python program to find the volume of a sphere with diameter 12 cm.\n",
    "Formula: V=4/3 * π * r 3"
   ]
  },
  {
   "cell_type": "code",
   "execution_count": 1,
   "id": "180ee1aa",
   "metadata": {},
   "outputs": [
    {
     "name": "stdout",
     "output_type": "stream",
     "text": [
      "enter diameter:12\n",
      "904.7786842338603\n"
     ]
    }
   ],
   "source": [
    "import math\n",
    "d=int(input(\"enter diameter:\"))\n",
    "r=d/2\n",
    "volume=(4/3)*math.pi*r**3\n",
    "print(volume)"
   ]
  }
 ],
 "metadata": {
  "kernelspec": {
   "display_name": "Python 3",
   "language": "python",
   "name": "python3"
  },
  "language_info": {
   "codemirror_mode": {
    "name": "ipython",
    "version": 3
   },
   "file_extension": ".py",
   "mimetype": "text/x-python",
   "name": "python",
   "nbconvert_exporter": "python",
   "pygments_lexer": "ipython3",
   "version": "3.8.8"
  }
 },
 "nbformat": 4,
 "nbformat_minor": 5
}
