{
 "cells": [
  {
   "cell_type": "markdown",
   "id": "966dae02",
   "metadata": {},
   "source": [
    "# PYTHON ASSIGNMENT -4"
   ]
  },
  {
   "cell_type": "markdown",
   "id": "bbd0645d",
   "metadata": {},
   "source": [
    "1.1 Write a Python Program(with class concepts) to find the area of the triangle using the below\n",
    "formula.\n",
    "area = (s*(s-a)*(s-b)*(s-c)) ** 0.5\n",
    "Function to take the length of the sides of triangle from user should be defined in the parent\n",
    "class and function to calculate the area should be defined in subclass."
   ]
  },
  {
   "cell_type": "code",
   "execution_count": 1,
   "id": "35c42290",
   "metadata": {},
   "outputs": [
    {
     "name": "stdout",
     "output_type": "stream",
     "text": [
      "4\n",
      "5\n",
      "7\n",
      "area : 9.797958971132712\n"
     ]
    }
   ],
   "source": [
    "class parent:\n",
    "    def __init__(self , a,b,c ) :\n",
    "        self.a  = int(a)\n",
    "        self.b =int(b) \n",
    "        self.c = int(c)\n",
    "a=int(input())\n",
    "b=int(input())\n",
    "c=int(input())\n",
    "class subclass(parent):\n",
    "    def __init__(self,a,b,c):\n",
    "        super().__init__(a,b,c)\n",
    "    def s1(self):\n",
    "        s = (a + b + c) / 2\n",
    "        return (s*(s-a)*(s-b)*(s-c)) ** 0.5   \n",
    "    \n",
    "r=subclass(a,b,c)\n",
    "print(\"area : {}\".format(r.s1()))"
   ]
  },
  {
   "cell_type": "markdown",
   "id": "0852fe81",
   "metadata": {},
   "source": [
    "1.2 Write a function filter_long_words() that takes a list of words and an integer n and returns\n",
    "the list of words that are longer than n."
   ]
  },
  {
   "cell_type": "code",
   "execution_count": 2,
   "id": "e47365b8",
   "metadata": {},
   "outputs": [],
   "source": [
    "def filter_long_words(*args,n) :\n",
    "    c=[]\n",
    "    for i in args:\n",
    "        if len(i)>n:\n",
    "            c.append(i)\n",
    "    return c"
   ]
  },
  {
   "cell_type": "code",
   "execution_count": 3,
   "id": "2f604edc",
   "metadata": {},
   "outputs": [
    {
     "data": {
      "text/plain": [
       "['sruthilaya', 'sarathreddy', 'soundararajan']"
      ]
     },
     "execution_count": 3,
     "metadata": {},
     "output_type": "execute_result"
    }
   ],
   "source": [
    "filter_long_words('sruthi','sarath','sruthilaya','sarathreddy','soundararajan','hemalatha',n=9) "
   ]
  },
  {
   "cell_type": "markdown",
   "id": "2157a76a",
   "metadata": {},
   "source": [
    "2.1 Write a Python program using function concept that maps list of words into a list of integers\n",
    "representing the lengths of the corresponding words.\n",
    "Hint: If a list [ ab,cde,erty] is passed on to the python function output should come as [2,3,4]\n",
    "Here 2,3 and 4 are the lengths of the words in the list."
   ]
  },
  {
   "cell_type": "code",
   "execution_count": 4,
   "id": "36b123a5",
   "metadata": {},
   "outputs": [],
   "source": [
    "def fun(*args):\n",
    "    c=[]\n",
    "    for i in args:\n",
    "        c.append(len(i))\n",
    "    return c"
   ]
  },
  {
   "cell_type": "code",
   "execution_count": 5,
   "id": "7b3e78d0",
   "metadata": {},
   "outputs": [
    {
     "data": {
      "text/plain": [
       "[6, 3, 4, 4]"
      ]
     },
     "execution_count": 5,
     "metadata": {},
     "output_type": "execute_result"
    }
   ],
   "source": [
    "fun('sruthi','sar','laya','hema')"
   ]
  },
  {
   "cell_type": "markdown",
   "id": "ed9bb70c",
   "metadata": {},
   "source": [
    "2.2 Write a Python function which takes a character (i.e. a string of length 1) and returns True if\n",
    "it is a vowel, False otherwise."
   ]
  },
  {
   "cell_type": "code",
   "execution_count": 6,
   "id": "66a6dc55",
   "metadata": {},
   "outputs": [],
   "source": [
    "def func(*args):\n",
    "    for i in args:\n",
    "        if i=='a':\n",
    "            return 'true'\n",
    "        if i=='e':\n",
    "            return 'true'\n",
    "        if i=='i':\n",
    "            return 'true'\n",
    "        if i=='o':\n",
    "            return 'true'\n",
    "        if i=='u':\n",
    "            return 'true'\n",
    "        else:\n",
    "            return 'false'"
   ]
  },
  {
   "cell_type": "code",
   "execution_count": 7,
   "id": "ade09a1f",
   "metadata": {},
   "outputs": [
    {
     "data": {
      "text/plain": [
       "'false'"
      ]
     },
     "execution_count": 7,
     "metadata": {},
     "output_type": "execute_result"
    }
   ],
   "source": [
    "func('g')"
   ]
  }
 ],
 "metadata": {
  "kernelspec": {
   "display_name": "Python 3",
   "language": "python",
   "name": "python3"
  },
  "language_info": {
   "codemirror_mode": {
    "name": "ipython",
    "version": 3
   },
   "file_extension": ".py",
   "mimetype": "text/x-python",
   "name": "python",
   "nbconvert_exporter": "python",
   "pygments_lexer": "ipython3",
   "version": "3.8.8"
  }
 },
 "nbformat": 4,
 "nbformat_minor": 5
}
